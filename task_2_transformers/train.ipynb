{
 "cells": [
  {
   "cell_type": "code",
   "execution_count": 5,
   "metadata": {
    "collapsed": true
   },
   "outputs": [],
   "source": [
    "from task_2_transformers.train_funcs import SetupTraining\n",
    "from task_2_transformers.data_utils import get_coco_image_annotation, get_coco_objects\n",
    "import torch\n",
    "from torch import nn\n",
    "from PIL import Image\n"
   ]
  },
  {
   "cell_type": "code",
   "execution_count": 19,
   "outputs": [
    {
     "name": "stdout",
     "output_type": "stream",
     "text": [
      "loading annotations into memory...\n",
      "Done (t=0.05s)\n",
      "creating index...\n",
      "index created!\n",
      "loading annotations into memory...\n",
      "Done (t=0.02s)\n",
      "creating index...\n",
      "index created!\n"
     ]
    }
   ],
   "source": [
    "coco_train = get_coco_objects(\"C:/Users/asima/PycharmProjects/AAGI_Prac/data_turbines/train/_annotations.coco.json\")\n",
    "coco_test = get_coco_objects(\"C:/Users/asima/PycharmProjects/AAGI_Prac/data_turbines/test/_annotations.coco.json\")\n",
    "train_images, train_annotations = get_coco_image_annotation(coco_train)\n",
    "test_images,test_annotations = get_coco_image_annotation(coco_test)"
   ],
   "metadata": {
    "collapsed": false
   }
  },
  {
   "cell_type": "code",
   "execution_count": null,
   "outputs": [],
   "source": [
    "torch.hub.load(\"facebookresearch/detr\", \"detr_resnet50\",)"
   ],
   "metadata": {
    "collapsed": false
   }
  }
 ],
 "metadata": {
  "kernelspec": {
   "display_name": "Python 3",
   "language": "python",
   "name": "python3"
  },
  "language_info": {
   "codemirror_mode": {
    "name": "ipython",
    "version": 2
   },
   "file_extension": ".py",
   "mimetype": "text/x-python",
   "name": "python",
   "nbconvert_exporter": "python",
   "pygments_lexer": "ipython2",
   "version": "2.7.6"
  }
 },
 "nbformat": 4,
 "nbformat_minor": 0
}
